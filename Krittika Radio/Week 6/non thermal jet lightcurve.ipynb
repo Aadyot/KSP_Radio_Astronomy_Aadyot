{
 "cells": [
  {
   "cell_type": "markdown",
   "metadata": {},
   "source": [
    "https://arxiv.org/pdf/2006.02382.pdf"
   ]
  },
  {
   "cell_type": "markdown",
   "metadata": {},
   "source": [
    "the core model"
   ]
  },
  {
   "cell_type": "code",
   "execution_count": 1,
   "metadata": {},
   "outputs": [],
   "source": [
    "def smooth_broken_power_law_model(t, freq, *theta):\n",
    "    beta, F_p, t_p, s, alpha1, alpha2 = theta\n",
    "    part1 = (2**(1/s))\n",
    "    part2 = ((freq/(3e9))**beta)\n",
    "    part3 = F_p\n",
    "    part4 =  (t/t_p)**(-s*alpha1)\n",
    "    part5 =  (t/t_p)**(-s*alpha2)\n",
    "    \n",
    "    ans =  part1*part2*part3*(part4+part5)**(-1/s)\n",
    "\n",
    "    return ans"
   ]
  },
  {
   "cell_type": "markdown",
   "metadata": {},
   "source": [
    "----------------------------------------------------------------------------------------------------------------------"
   ]
  },
  {
   "cell_type": "code",
   "execution_count": 2,
   "metadata": {},
   "outputs": [],
   "source": [
    "from astropy.io import ascii\n",
    "import pandas as pd\n",
    "import matplotlib.pyplot as plt\n",
    "import numpy as np\n",
    "import emcee"
   ]
  },
  {
   "cell_type": "markdown",
   "metadata": {},
   "source": [
    "----------------------------------------------------------------------------------------------------------------------"
   ]
  },
  {
   "cell_type": "markdown",
   "metadata": {},
   "source": [
    "data preparation. removing NaN and 0 error"
   ]
  },
  {
   "cell_type": "code",
   "execution_count": 3,
   "metadata": {},
   "outputs": [],
   "source": [
    "data = ascii.read('gw170817_afterglow_data_full.txt')\n",
    "data = data.to_pandas()\n",
    "\n",
    "data[\"FluxD\"] = data[\"FluxD\"].apply(lambda x : float(x.lstrip(\"<\")))\n",
    "\n",
    "default_error = 0.05\n",
    "data[\"FluxDErr\"].fillna(data[\"FluxD\"] * default_error, inplace = True)\n",
    "\n",
    "#data[\"FluxDErr\"] += default_error*data[\"FluxD\"]\n",
    "data[\"FluxDErr\"] = np.where(data[\"FluxDErr\"] == 0 , data[\"FluxD\"] * default_error, data[\"FluxDErr\"] )"
   ]
  },
  {
   "cell_type": "code",
   "execution_count": 4,
   "metadata": {},
   "outputs": [
    {
     "data": {
      "text/html": [
       "<div>\n",
       "<style scoped>\n",
       "    .dataframe tbody tr th:only-of-type {\n",
       "        vertical-align: middle;\n",
       "    }\n",
       "\n",
       "    .dataframe tbody tr th {\n",
       "        vertical-align: top;\n",
       "    }\n",
       "\n",
       "    .dataframe thead th {\n",
       "        text-align: right;\n",
       "    }\n",
       "</style>\n",
       "<table border=\"1\" class=\"dataframe\">\n",
       "  <thead>\n",
       "    <tr style=\"text-align: right;\">\n",
       "      <th></th>\n",
       "      <th>DateUT</th>\n",
       "      <th>T</th>\n",
       "      <th>Telescope</th>\n",
       "      <th>Freq</th>\n",
       "      <th>FluxD</th>\n",
       "      <th>FluxDErr</th>\n",
       "    </tr>\n",
       "  </thead>\n",
       "  <tbody>\n",
       "    <tr>\n",
       "      <th>0</th>\n",
       "      <td>2017-Aug-18.10</td>\n",
       "      <td>0.57</td>\n",
       "      <td>VLA</td>\n",
       "      <td>9.700000e+09</td>\n",
       "      <td>144.00000</td>\n",
       "      <td>7.200000</td>\n",
       "    </tr>\n",
       "    <tr>\n",
       "      <th>1</th>\n",
       "      <td>2017-Aug-18.1</td>\n",
       "      <td>0.60</td>\n",
       "      <td>Swift</td>\n",
       "      <td>2.410000e+17</td>\n",
       "      <td>0.00780</td>\n",
       "      <td>0.000390</td>\n",
       "    </tr>\n",
       "    <tr>\n",
       "      <th>2</th>\n",
       "      <td>2017-Aug-18.21</td>\n",
       "      <td>0.68</td>\n",
       "      <td>ATCA</td>\n",
       "      <td>8.500000e+09</td>\n",
       "      <td>120.00000</td>\n",
       "      <td>6.000000</td>\n",
       "    </tr>\n",
       "    <tr>\n",
       "      <th>3</th>\n",
       "      <td>2017-Aug-18.21</td>\n",
       "      <td>0.68</td>\n",
       "      <td>ATCA</td>\n",
       "      <td>1.050000e+10</td>\n",
       "      <td>150.00000</td>\n",
       "      <td>7.500000</td>\n",
       "    </tr>\n",
       "    <tr>\n",
       "      <th>4</th>\n",
       "      <td>2017-Aug-18.2</td>\n",
       "      <td>0.70</td>\n",
       "      <td>NuSTAR</td>\n",
       "      <td>1.200000e+18</td>\n",
       "      <td>0.00073</td>\n",
       "      <td>0.000036</td>\n",
       "    </tr>\n",
       "    <tr>\n",
       "      <th>...</th>\n",
       "      <td>...</td>\n",
       "      <td>...</td>\n",
       "      <td>...</td>\n",
       "      <td>...</td>\n",
       "      <td>...</td>\n",
       "      <td>...</td>\n",
       "    </tr>\n",
       "    <tr>\n",
       "      <th>210</th>\n",
       "      <td>2021-Apr-08</td>\n",
       "      <td>1330.00</td>\n",
       "      <td>ATCA</td>\n",
       "      <td>5.500000e+09</td>\n",
       "      <td>44.00000</td>\n",
       "      <td>2.200000</td>\n",
       "    </tr>\n",
       "    <tr>\n",
       "      <th>211</th>\n",
       "      <td>2021-Apr-08</td>\n",
       "      <td>1330.00</td>\n",
       "      <td>ATCA</td>\n",
       "      <td>9.000000e+09</td>\n",
       "      <td>31.00000</td>\n",
       "      <td>1.550000</td>\n",
       "    </tr>\n",
       "    <tr>\n",
       "      <th>212</th>\n",
       "      <td>2020-Dec-09--2021-Jan-27</td>\n",
       "      <td>1231.00</td>\n",
       "      <td>Chandra</td>\n",
       "      <td>2.410000e+17</td>\n",
       "      <td>0.00017</td>\n",
       "      <td>0.000047</td>\n",
       "    </tr>\n",
       "    <tr>\n",
       "      <th>213</th>\n",
       "      <td>2020-Sep-19--2021-Feb-08</td>\n",
       "      <td>1228.00</td>\n",
       "      <td>VLA</td>\n",
       "      <td>3.000000e+09</td>\n",
       "      <td>2.86000</td>\n",
       "      <td>0.990000</td>\n",
       "    </tr>\n",
       "    <tr>\n",
       "      <th>214</th>\n",
       "      <td>2020-Feb-10</td>\n",
       "      <td>1273.00</td>\n",
       "      <td>VLA</td>\n",
       "      <td>1.500000e+10</td>\n",
       "      <td>5.70000</td>\n",
       "      <td>0.285000</td>\n",
       "    </tr>\n",
       "  </tbody>\n",
       "</table>\n",
       "<p>215 rows × 6 columns</p>\n",
       "</div>"
      ],
      "text/plain": [
       "                       DateUT        T Telescope          Freq      FluxD  \\\n",
       "0              2017-Aug-18.10     0.57       VLA  9.700000e+09  144.00000   \n",
       "1               2017-Aug-18.1     0.60     Swift  2.410000e+17    0.00780   \n",
       "2              2017-Aug-18.21     0.68      ATCA  8.500000e+09  120.00000   \n",
       "3              2017-Aug-18.21     0.68      ATCA  1.050000e+10  150.00000   \n",
       "4               2017-Aug-18.2     0.70    NuSTAR  1.200000e+18    0.00073   \n",
       "..                        ...      ...       ...           ...        ...   \n",
       "210               2021-Apr-08  1330.00      ATCA  5.500000e+09   44.00000   \n",
       "211               2021-Apr-08  1330.00      ATCA  9.000000e+09   31.00000   \n",
       "212  2020-Dec-09--2021-Jan-27  1231.00   Chandra  2.410000e+17    0.00017   \n",
       "213  2020-Sep-19--2021-Feb-08  1228.00       VLA  3.000000e+09    2.86000   \n",
       "214               2020-Feb-10  1273.00       VLA  1.500000e+10    5.70000   \n",
       "\n",
       "     FluxDErr  \n",
       "0    7.200000  \n",
       "1    0.000390  \n",
       "2    6.000000  \n",
       "3    7.500000  \n",
       "4    0.000036  \n",
       "..        ...  \n",
       "210  2.200000  \n",
       "211  1.550000  \n",
       "212  0.000047  \n",
       "213  0.990000  \n",
       "214  0.285000  \n",
       "\n",
       "[215 rows x 6 columns]"
      ]
     },
     "execution_count": 4,
     "metadata": {},
     "output_type": "execute_result"
    }
   ],
   "source": [
    "data"
   ]
  },
  {
   "cell_type": "code",
   "execution_count": 5,
   "metadata": {},
   "outputs": [],
   "source": [
    "data2 = data.loc[((data[\"Telescope\"]==\"VLA\") & (data[\"Freq\"]==3.0e9)) & (data[\"T\"] > 4)| (data[\"Telescope\"]==\"Chandra\")] \n",
    "#data2 = data\n",
    "\n",
    "vla3ghzdata = data2.loc[(data2[\"Telescope\"]==\"VLA\") & (data2[\"Freq\"]==3.0e9)] \n",
    "chandradata = data2.loc[(data2[\"Telescope\"]==\"Chandra\")]\n",
    "\n",
    "mydata = (np.array(data2[\"T\"]), np.array(data2[\"Freq\"]), np.array(data2[\"FluxD\"]), np.array(data2[\"FluxDErr\"]))"
   ]
  },
  {
   "cell_type": "code",
   "execution_count": 6,
   "metadata": {},
   "outputs": [
    {
     "data": {
      "text/plain": [
       "array([3.00e+09, 2.41e+17])"
      ]
     },
     "execution_count": 6,
     "metadata": {},
     "output_type": "execute_result"
    }
   ],
   "source": [
    "(np.sort(data2[\"Freq\"].unique()))\n"
   ]
  },
  {
   "cell_type": "code",
   "execution_count": 7,
   "metadata": {},
   "outputs": [
    {
     "data": {
      "text/html": [
       "<div>\n",
       "<style scoped>\n",
       "    .dataframe tbody tr th:only-of-type {\n",
       "        vertical-align: middle;\n",
       "    }\n",
       "\n",
       "    .dataframe tbody tr th {\n",
       "        vertical-align: top;\n",
       "    }\n",
       "\n",
       "    .dataframe thead th {\n",
       "        text-align: right;\n",
       "    }\n",
       "</style>\n",
       "<table border=\"1\" class=\"dataframe\">\n",
       "  <thead>\n",
       "    <tr style=\"text-align: right;\">\n",
       "      <th></th>\n",
       "      <th>DateUT</th>\n",
       "      <th>T</th>\n",
       "      <th>Telescope</th>\n",
       "      <th>Freq</th>\n",
       "      <th>FluxD</th>\n",
       "      <th>FluxDErr</th>\n",
       "    </tr>\n",
       "  </thead>\n",
       "  <tbody>\n",
       "    <tr>\n",
       "      <th>14</th>\n",
       "      <td>2017-Aug-19.9</td>\n",
       "      <td>2.4</td>\n",
       "      <td>Chandra</td>\n",
       "      <td>2.410000e+17</td>\n",
       "      <td>0.000230</td>\n",
       "      <td>0.000012</td>\n",
       "    </tr>\n",
       "    <tr>\n",
       "      <th>43</th>\n",
       "      <td>2017-Aug-26.7</td>\n",
       "      <td>9.2</td>\n",
       "      <td>Chandra</td>\n",
       "      <td>2.410000e+17</td>\n",
       "      <td>0.000448</td>\n",
       "      <td>0.000131</td>\n",
       "    </tr>\n",
       "    <tr>\n",
       "      <th>59</th>\n",
       "      <td>2017-Sep-01.4</td>\n",
       "      <td>14.9</td>\n",
       "      <td>Chandra</td>\n",
       "      <td>2.410000e+17</td>\n",
       "      <td>0.000511</td>\n",
       "      <td>0.000096</td>\n",
       "    </tr>\n",
       "    <tr>\n",
       "      <th>65</th>\n",
       "      <td>2017-Sep-2.9</td>\n",
       "      <td>16.4</td>\n",
       "      <td>VLA</td>\n",
       "      <td>3.000000e+09</td>\n",
       "      <td>18.700000</td>\n",
       "      <td>6.300000</td>\n",
       "    </tr>\n",
       "    <tr>\n",
       "      <th>67</th>\n",
       "      <td>2017-Sep-3.9</td>\n",
       "      <td>17.4</td>\n",
       "      <td>VLA</td>\n",
       "      <td>3.000000e+09</td>\n",
       "      <td>15.100000</td>\n",
       "      <td>3.900000</td>\n",
       "    </tr>\n",
       "    <tr>\n",
       "      <th>71</th>\n",
       "      <td>2017-Sep-4.9</td>\n",
       "      <td>18.3</td>\n",
       "      <td>VLA</td>\n",
       "      <td>3.000000e+09</td>\n",
       "      <td>14.500000</td>\n",
       "      <td>3.700000</td>\n",
       "    </tr>\n",
       "    <tr>\n",
       "      <th>82</th>\n",
       "      <td>2017-Sep-8.9</td>\n",
       "      <td>22.4</td>\n",
       "      <td>VLA</td>\n",
       "      <td>3.000000e+09</td>\n",
       "      <td>22.500000</td>\n",
       "      <td>3.400000</td>\n",
       "    </tr>\n",
       "    <tr>\n",
       "      <th>87</th>\n",
       "      <td>2017-Sep-10.8</td>\n",
       "      <td>24.2</td>\n",
       "      <td>VLA</td>\n",
       "      <td>3.000000e+09</td>\n",
       "      <td>25.600000</td>\n",
       "      <td>2.900000</td>\n",
       "    </tr>\n",
       "    <tr>\n",
       "      <th>92</th>\n",
       "      <td>2017-Sep-17.8</td>\n",
       "      <td>31.3</td>\n",
       "      <td>VLA</td>\n",
       "      <td>3.000000e+09</td>\n",
       "      <td>34.000000</td>\n",
       "      <td>3.600000</td>\n",
       "    </tr>\n",
       "    <tr>\n",
       "      <th>100</th>\n",
       "      <td>2017-Oct-2.8</td>\n",
       "      <td>46.3</td>\n",
       "      <td>VLA</td>\n",
       "      <td>3.000000e+09</td>\n",
       "      <td>44.000000</td>\n",
       "      <td>4.000000</td>\n",
       "    </tr>\n",
       "    <tr>\n",
       "      <th>103</th>\n",
       "      <td>2017-Oct-10.8</td>\n",
       "      <td>54.3</td>\n",
       "      <td>VLA</td>\n",
       "      <td>3.000000e+09</td>\n",
       "      <td>48.000000</td>\n",
       "      <td>6.000000</td>\n",
       "    </tr>\n",
       "    <tr>\n",
       "      <th>104</th>\n",
       "      <td>2017-Oct-13.7</td>\n",
       "      <td>57.2</td>\n",
       "      <td>VLA</td>\n",
       "      <td>3.000000e+09</td>\n",
       "      <td>61.000000</td>\n",
       "      <td>9.000000</td>\n",
       "    </tr>\n",
       "    <tr>\n",
       "      <th>116</th>\n",
       "      <td>2017-Nov-18.6</td>\n",
       "      <td>93.1</td>\n",
       "      <td>VLA</td>\n",
       "      <td>3.000000e+09</td>\n",
       "      <td>70.000000</td>\n",
       "      <td>5.700000</td>\n",
       "    </tr>\n",
       "    <tr>\n",
       "      <th>123</th>\n",
       "      <td>2017-Dec-04</td>\n",
       "      <td>109.0</td>\n",
       "      <td>Chandra</td>\n",
       "      <td>2.410000e+17</td>\n",
       "      <td>0.002110</td>\n",
       "      <td>0.000185</td>\n",
       "    </tr>\n",
       "    <tr>\n",
       "      <th>129</th>\n",
       "      <td>2017-Dec-10</td>\n",
       "      <td>115.0</td>\n",
       "      <td>VLA</td>\n",
       "      <td>3.000000e+09</td>\n",
       "      <td>96.200000</td>\n",
       "      <td>8.000000</td>\n",
       "    </tr>\n",
       "    <tr>\n",
       "      <th>142</th>\n",
       "      <td>2018-Jan-23</td>\n",
       "      <td>158.0</td>\n",
       "      <td>Chandra</td>\n",
       "      <td>2.410000e+17</td>\n",
       "      <td>0.002190</td>\n",
       "      <td>0.000183</td>\n",
       "    </tr>\n",
       "    <tr>\n",
       "      <th>144</th>\n",
       "      <td>2018-Jan-27</td>\n",
       "      <td>163.0</td>\n",
       "      <td>VLA</td>\n",
       "      <td>3.000000e+09</td>\n",
       "      <td>97.300000</td>\n",
       "      <td>11.300000</td>\n",
       "    </tr>\n",
       "    <tr>\n",
       "      <th>154</th>\n",
       "      <td>2018-Mar-2</td>\n",
       "      <td>197.0</td>\n",
       "      <td>VLA</td>\n",
       "      <td>3.000000e+09</td>\n",
       "      <td>75.900000</td>\n",
       "      <td>5.200000</td>\n",
       "    </tr>\n",
       "    <tr>\n",
       "      <th>161</th>\n",
       "      <td>2018-Mar-22</td>\n",
       "      <td>217.0</td>\n",
       "      <td>VLA</td>\n",
       "      <td>3.000000e+09</td>\n",
       "      <td>60.500000</td>\n",
       "      <td>7.500000</td>\n",
       "    </tr>\n",
       "    <tr>\n",
       "      <th>165</th>\n",
       "      <td>2018-Mar-25-26</td>\n",
       "      <td>218.0</td>\n",
       "      <td>VLA</td>\n",
       "      <td>3.000000e+09</td>\n",
       "      <td>64.700000</td>\n",
       "      <td>2.700000</td>\n",
       "    </tr>\n",
       "    <tr>\n",
       "      <th>170</th>\n",
       "      <td>2018-May-1</td>\n",
       "      <td>257.0</td>\n",
       "      <td>VLA</td>\n",
       "      <td>3.000000e+09</td>\n",
       "      <td>43.200000</td>\n",
       "      <td>5.800000</td>\n",
       "    </tr>\n",
       "    <tr>\n",
       "      <th>171</th>\n",
       "      <td>2018-May-04</td>\n",
       "      <td>259.0</td>\n",
       "      <td>Chandra</td>\n",
       "      <td>2.410000e+17</td>\n",
       "      <td>0.001150</td>\n",
       "      <td>0.000140</td>\n",
       "    </tr>\n",
       "    <tr>\n",
       "      <th>174</th>\n",
       "      <td>2018-May-12</td>\n",
       "      <td>267.0</td>\n",
       "      <td>VLA</td>\n",
       "      <td>3.000000e+09</td>\n",
       "      <td>40.300000</td>\n",
       "      <td>2.700000</td>\n",
       "    </tr>\n",
       "    <tr>\n",
       "      <th>175</th>\n",
       "      <td>2018-May-17</td>\n",
       "      <td>273.0</td>\n",
       "      <td>VLA</td>\n",
       "      <td>3.000000e+09</td>\n",
       "      <td>34.800000</td>\n",
       "      <td>4.900000</td>\n",
       "    </tr>\n",
       "    <tr>\n",
       "      <th>178</th>\n",
       "      <td>2018-Jun-2</td>\n",
       "      <td>289.0</td>\n",
       "      <td>VLA</td>\n",
       "      <td>3.000000e+09</td>\n",
       "      <td>36.300000</td>\n",
       "      <td>3.900000</td>\n",
       "    </tr>\n",
       "    <tr>\n",
       "      <th>180</th>\n",
       "      <td>2018-Jun-7</td>\n",
       "      <td>294.0</td>\n",
       "      <td>VLA</td>\n",
       "      <td>3.000000e+09</td>\n",
       "      <td>31.200000</td>\n",
       "      <td>3.600000</td>\n",
       "    </tr>\n",
       "    <tr>\n",
       "      <th>188</th>\n",
       "      <td>2018-Aug-10</td>\n",
       "      <td>357.0</td>\n",
       "      <td>Chandra</td>\n",
       "      <td>2.410000e+17</td>\n",
       "      <td>0.000712</td>\n",
       "      <td>0.000136</td>\n",
       "    </tr>\n",
       "    <tr>\n",
       "      <th>195</th>\n",
       "      <td>2018-Dec-18--20</td>\n",
       "      <td>489.0</td>\n",
       "      <td>VLA</td>\n",
       "      <td>3.000000e+09</td>\n",
       "      <td>14.800000</td>\n",
       "      <td>2.900000</td>\n",
       "    </tr>\n",
       "    <tr>\n",
       "      <th>200</th>\n",
       "      <td>2019-Mar-22</td>\n",
       "      <td>581.0</td>\n",
       "      <td>Chandra</td>\n",
       "      <td>2.410000e+17</td>\n",
       "      <td>0.000263</td>\n",
       "      <td>0.000071</td>\n",
       "    </tr>\n",
       "    <tr>\n",
       "      <th>203</th>\n",
       "      <td>2019-Aug-29</td>\n",
       "      <td>741.0</td>\n",
       "      <td>Chandra</td>\n",
       "      <td>2.410000e+17</td>\n",
       "      <td>0.000219</td>\n",
       "      <td>0.000073</td>\n",
       "    </tr>\n",
       "    <tr>\n",
       "      <th>205</th>\n",
       "      <td>2019-Sep-21--27</td>\n",
       "      <td>767.0</td>\n",
       "      <td>VLA</td>\n",
       "      <td>3.000000e+09</td>\n",
       "      <td>4.900000</td>\n",
       "      <td>1.800000</td>\n",
       "    </tr>\n",
       "    <tr>\n",
       "      <th>206</th>\n",
       "      <td>2020-Mar-13</td>\n",
       "      <td>938.0</td>\n",
       "      <td>Chandra</td>\n",
       "      <td>2.410000e+17</td>\n",
       "      <td>0.000130</td>\n",
       "      <td>0.000052</td>\n",
       "    </tr>\n",
       "    <tr>\n",
       "      <th>212</th>\n",
       "      <td>2020-Dec-09--2021-Jan-27</td>\n",
       "      <td>1231.0</td>\n",
       "      <td>Chandra</td>\n",
       "      <td>2.410000e+17</td>\n",
       "      <td>0.000170</td>\n",
       "      <td>0.000047</td>\n",
       "    </tr>\n",
       "    <tr>\n",
       "      <th>213</th>\n",
       "      <td>2020-Sep-19--2021-Feb-08</td>\n",
       "      <td>1228.0</td>\n",
       "      <td>VLA</td>\n",
       "      <td>3.000000e+09</td>\n",
       "      <td>2.860000</td>\n",
       "      <td>0.990000</td>\n",
       "    </tr>\n",
       "  </tbody>\n",
       "</table>\n",
       "</div>"
      ],
      "text/plain": [
       "                       DateUT       T Telescope          Freq      FluxD  \\\n",
       "14              2017-Aug-19.9     2.4   Chandra  2.410000e+17   0.000230   \n",
       "43              2017-Aug-26.7     9.2   Chandra  2.410000e+17   0.000448   \n",
       "59              2017-Sep-01.4    14.9   Chandra  2.410000e+17   0.000511   \n",
       "65               2017-Sep-2.9    16.4       VLA  3.000000e+09  18.700000   \n",
       "67               2017-Sep-3.9    17.4       VLA  3.000000e+09  15.100000   \n",
       "71               2017-Sep-4.9    18.3       VLA  3.000000e+09  14.500000   \n",
       "82               2017-Sep-8.9    22.4       VLA  3.000000e+09  22.500000   \n",
       "87              2017-Sep-10.8    24.2       VLA  3.000000e+09  25.600000   \n",
       "92              2017-Sep-17.8    31.3       VLA  3.000000e+09  34.000000   \n",
       "100              2017-Oct-2.8    46.3       VLA  3.000000e+09  44.000000   \n",
       "103             2017-Oct-10.8    54.3       VLA  3.000000e+09  48.000000   \n",
       "104             2017-Oct-13.7    57.2       VLA  3.000000e+09  61.000000   \n",
       "116             2017-Nov-18.6    93.1       VLA  3.000000e+09  70.000000   \n",
       "123               2017-Dec-04   109.0   Chandra  2.410000e+17   0.002110   \n",
       "129               2017-Dec-10   115.0       VLA  3.000000e+09  96.200000   \n",
       "142               2018-Jan-23   158.0   Chandra  2.410000e+17   0.002190   \n",
       "144               2018-Jan-27   163.0       VLA  3.000000e+09  97.300000   \n",
       "154                2018-Mar-2   197.0       VLA  3.000000e+09  75.900000   \n",
       "161               2018-Mar-22   217.0       VLA  3.000000e+09  60.500000   \n",
       "165            2018-Mar-25-26   218.0       VLA  3.000000e+09  64.700000   \n",
       "170                2018-May-1   257.0       VLA  3.000000e+09  43.200000   \n",
       "171               2018-May-04   259.0   Chandra  2.410000e+17   0.001150   \n",
       "174               2018-May-12   267.0       VLA  3.000000e+09  40.300000   \n",
       "175               2018-May-17   273.0       VLA  3.000000e+09  34.800000   \n",
       "178                2018-Jun-2   289.0       VLA  3.000000e+09  36.300000   \n",
       "180                2018-Jun-7   294.0       VLA  3.000000e+09  31.200000   \n",
       "188               2018-Aug-10   357.0   Chandra  2.410000e+17   0.000712   \n",
       "195           2018-Dec-18--20   489.0       VLA  3.000000e+09  14.800000   \n",
       "200               2019-Mar-22   581.0   Chandra  2.410000e+17   0.000263   \n",
       "203               2019-Aug-29   741.0   Chandra  2.410000e+17   0.000219   \n",
       "205           2019-Sep-21--27   767.0       VLA  3.000000e+09   4.900000   \n",
       "206               2020-Mar-13   938.0   Chandra  2.410000e+17   0.000130   \n",
       "212  2020-Dec-09--2021-Jan-27  1231.0   Chandra  2.410000e+17   0.000170   \n",
       "213  2020-Sep-19--2021-Feb-08  1228.0       VLA  3.000000e+09   2.860000   \n",
       "\n",
       "      FluxDErr  \n",
       "14    0.000012  \n",
       "43    0.000131  \n",
       "59    0.000096  \n",
       "65    6.300000  \n",
       "67    3.900000  \n",
       "71    3.700000  \n",
       "82    3.400000  \n",
       "87    2.900000  \n",
       "92    3.600000  \n",
       "100   4.000000  \n",
       "103   6.000000  \n",
       "104   9.000000  \n",
       "116   5.700000  \n",
       "123   0.000185  \n",
       "129   8.000000  \n",
       "142   0.000183  \n",
       "144  11.300000  \n",
       "154   5.200000  \n",
       "161   7.500000  \n",
       "165   2.700000  \n",
       "170   5.800000  \n",
       "171   0.000140  \n",
       "174   2.700000  \n",
       "175   4.900000  \n",
       "178   3.900000  \n",
       "180   3.600000  \n",
       "188   0.000136  \n",
       "195   2.900000  \n",
       "200   0.000071  \n",
       "203   0.000073  \n",
       "205   1.800000  \n",
       "206   0.000052  \n",
       "212   0.000047  \n",
       "213   0.990000  "
      ]
     },
     "execution_count": 7,
     "metadata": {},
     "output_type": "execute_result"
    }
   ],
   "source": [
    "data2"
   ]
  },
  {
   "cell_type": "code",
   "execution_count": 8,
   "metadata": {},
   "outputs": [
    {
     "data": {
      "image/png": "[encoded data removed]",
      "text/plain": [
       "<Figure size 432x288 with 2 Axes>"
      ]
     },
     "metadata": {
      "needs_background": "light"
     },
     "output_type": "display_data"
    }
   ],
   "source": [
    "ax = plt.gca()\n",
    "ax.set_yscale('log')\n",
    "ax.set_xscale('log')\n",
    "\n",
    "plt.scatter((mydata[0]),(mydata[2]), c = np.log(mydata[1]), cmap = \"plasma\")\n",
    "plt.errorbar((mydata[0]),(mydata[2]), mydata[3], linestyle = '', c = \"red\")\n",
    "plt.colorbar()\n",
    "plt.show()"
   ]
  },
  {
   "cell_type": "markdown",
   "metadata": {},
   "source": [
    "----------------------------------------------------------------------------------------------------------------"
   ]
  },
  {
   "cell_type": "markdown",
   "metadata": {},
   "source": [
    "Explanation for this is in previous jupyter notebook"
   ]
  },
  {
   "cell_type": "code",
   "execution_count": 9,
   "metadata": {},
   "outputs": [
    {
     "name": "stdout",
     "output_type": "stream",
     "text": [
      "-0.5819178548902912\n"
     ]
    }
   ],
   "source": [
    "VLAfreq = 3.0e9 \n",
    "Chandrafreq = 2.41e+17\n",
    "\n",
    "beta = 4.6/np.log10(VLAfreq/Chandrafreq)\n",
    "print(beta)   #ooh this matches pretty much exactly with the task in week1\n",
    "F_p = 100\n",
    "t_p = 100\n",
    "s = 2\n",
    "alpha1 = 1\n",
    "alpha2 = -2"
   ]
  },
  {
   "cell_type": "code",
   "execution_count": 10,
   "metadata": {},
   "outputs": [],
   "source": [
    "initial = np.array([beta, F_p, t_p, s, alpha1, alpha2])\n",
    "ndim = len(initial)\n",
    "\n",
    "def lnprior(theta):\n",
    "    beta, F_p, t_p, s, alpha1, alpha2 = theta\n",
    "    lis = [True]*6\n",
    "    lis[0] = -1<beta<0 \n",
    "    lis[1] = 200>F_p>50\n",
    "    lis[2] = 200>t_p>50\n",
    "    lis[3] = 10>s>0.1\n",
    "    lis[4] = 2>=alpha1>=0\n",
    "    lis[5] = -3<=alpha2<=-1\n",
    "    if(False not in lis):\n",
    "        return 0.0;\n",
    "    return -np.inf"
   ]
  },
  {
   "cell_type": "markdown",
   "metadata": {},
   "source": [
    "----------------------------------------------------------------------------------------------------------------"
   ]
  },
  {
   "cell_type": "code",
   "execution_count": 11,
   "metadata": {},
   "outputs": [],
   "source": [
    "def main(p0, nwalkers, niter, ndim, lnprob, data):\n",
    "    sampler = emcee.EnsembleSampler(nwalkers, ndim, lnprob, args = data)\n",
    "\n",
    "    print(\"Running burn in \")\n",
    "    p0, _, _ = sampler.run_mcmc(p0, 100)\n",
    "    sampler.reset()\n",
    "    \n",
    "    #the actual mcmc\n",
    "    print(\"Running production\")\n",
    "    pos, prob, state = sampler.run_mcmc(p0, niter)\n",
    "    return sampler, pos, prob, state"
   ]
  },
  {
   "cell_type": "markdown",
   "metadata": {},
   "source": [
    "----------------------------------------------------------------------------------------------------------------"
   ]
  },
  {
   "cell_type": "code",
   "execution_count": 12,
   "metadata": {},
   "outputs": [],
   "source": [
    "def sbplm(t, freq, *theta):\n",
    "    return smooth_broken_power_law_model(t, freq, *theta)"
   ]
  },
  {
   "cell_type": "code",
   "execution_count": 13,
   "metadata": {},
   "outputs": [],
   "source": [
    "def model(theta, t, freq):\n",
    "    return sbplm(t, freq, *theta)"
   ]
  },
  {
   "cell_type": "code",
   "execution_count": 14,
   "metadata": {},
   "outputs": [],
   "source": [
    "def lnlike(theta, t, freq, flux, flux_err):\n",
    "    return -0.5 * np.sum(((flux-model(theta, t, freq))/flux_err)**2)\n"
   ]
  },
  {
   "cell_type": "code",
   "execution_count": 15,
   "metadata": {},
   "outputs": [],
   "source": [
    "def lnprob(theta, t, freq, flux, flux_err):\n",
    "    lp = lnprior(theta)\n",
    "    if np.isfinite(lp):\n",
    "        return lp + lnlike(theta, t, freq, flux, flux_err)\n",
    "    return -np.inf"
   ]
  },
  {
   "cell_type": "markdown",
   "metadata": {},
   "source": [
    "----------------------------------------------------------------------------------------------------------------"
   ]
  },
  {
   "cell_type": "markdown",
   "metadata": {},
   "source": [
    "Fitting"
   ]
  },
  {
   "cell_type": "code",
   "execution_count": 16,
   "metadata": {},
   "outputs": [],
   "source": [
    "nwalkers = 128\n",
    "niter = 5000\n",
    "scale = 10**np.floor(np.log10(abs(initial) + 1e-1)  )\n",
    "p0 = [(initial + 1e-3 * scale* np.random.randn(ndim))   for i in range(nwalkers) ]"
   ]
  },
  {
   "cell_type": "code",
   "execution_count": 17,
   "metadata": {},
   "outputs": [
    {
     "name": "stdout",
     "output_type": "stream",
     "text": [
      "Running burn in \n"
     ]
    },
    {
     "name": "stdout",
     "output_type": "stream",
     "text": [
      "Running production\n"
     ]
    }
   ],
   "source": [
    "sampler, pos, prob, state = main(p0, nwalkers, niter, ndim, lnprob, mydata);"
   ]
  },
  {
   "cell_type": "code",
   "execution_count": 18,
   "metadata": {},
   "outputs": [],
   "source": [
    "samples = sampler.flatchain\n",
    "best = samples[np.argmax(sampler.flatlnprobability)]"
   ]
  },
  {
   "cell_type": "code",
   "execution_count": 53,
   "metadata": {},
   "outputs": [],
   "source": [
    "def very_specific_plot(data, samples, best, color, name):\n",
    "    ax = plt.gca()\n",
    "    plt.scatter(data[\"T\"], data[\"FluxD\"], c = color, label = name + \" data\")\n",
    "    ax.set_yscale('log')\n",
    "    ax.set_xscale('log')\n",
    "    plt.errorbar(data[\"T\"], data[\"FluxD\"], yerr = data[\"FluxDErr\"], ecolor=\"red\", linestyle = 'None')\n",
    "\n",
    "\n",
    "    # for theta in samples[np.random.randint(len(samples), size = 100)]:\n",
    "    #     plt.plot(data[\"T\"], smooth_broken_power_law_model(data[\"T\"],data[\"Freq\"],*theta), color = 'r', alpha = 0.1)\n",
    "        \n",
    "    plt.plot(data[\"T\"], smooth_broken_power_law_model(data[\"T\"],data[\"Freq\"],*best), color = 'g', alpha = 1, label = name + \" fit\")\n",
    "    #line.set_label(name)"
   ]
  },
  {
   "cell_type": "code",
   "execution_count": 56,
   "metadata": {},
   "outputs": [
    {
     "data": {
      "text/plain": [
       "<matplotlib.legend.Legend at 0x234df5663e0>"
      ]
     },
     "execution_count": 56,
     "metadata": {},
     "output_type": "execute_result"
    },
    {
     "data": {
      "image/png": "[encoded data removed]",
      "text/plain": [
       "<Figure size 432x288 with 1 Axes>"
      ]
     },
     "metadata": {
      "needs_background": "light"
     },
     "output_type": "display_data"
    }
   ],
   "source": [
    "plt.xlabel(\"log Flux Density (micro Jansky)\")\n",
    "plt.ylabel(\"log Time (days)\")\n",
    "\n",
    "\n",
    "\n",
    "very_specific_plot(vla3ghzdata, samples, best, \"b\", \"VLA 3GHz\")\n",
    "#plt.show()\n",
    "very_specific_plot(chandradata, samples, best, \"y\", \"Chandra\")\n",
    "\n",
    "plt.legend()"
   ]
  },
  {
   "cell_type": "code",
   "execution_count": 57,
   "metadata": {},
   "outputs": [
    {
     "name": "stdout",
     "output_type": "stream",
     "text": [
      "beta -0.575, F_p 85.622, t_p 174.096, s 7.609, alpha1 0.592, alpha2 -1.884\n"
     ]
    }
   ],
   "source": [
    "beta, F_p, t_p, s, alpha1, alpha2 = best.round(3)\n",
    "print(f\"beta {beta}, F_p {F_p}, t_p {t_p}, s {s}, alpha1 {alpha1}, alpha2 {alpha2}\")"
   ]
  },
  {
   "cell_type": "markdown",
   "metadata": {},
   "source": [
    "https://arxiv.org/pdf/2006.02382.pdf"
   ]
  },
  {
   "cell_type": "markdown",
   "metadata": {},
   "source": [
    "pretty good but still different from the paper"
   ]
  }
 ],
 "metadata": {
  "kernelspec": {
   "display_name": "Python 3",
   "language": "python",
   "name": "python3"
  },
  "language_info": {
   "codemirror_mode": {
    "name": "ipython",
    "version": 3
   },
   "file_extension": ".py",
   "mimetype": "text/x-python",
   "name": "python",
   "nbconvert_exporter": "python",
   "pygments_lexer": "ipython3",
   "version": "3.10.0"
  },
  "orig_nbformat": 4
 },
 "nbformat": 4,
 "nbformat_minor": 2
}
